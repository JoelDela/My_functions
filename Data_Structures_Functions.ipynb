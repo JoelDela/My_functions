{
 "cells": [
  {
   "cell_type": "markdown",
   "metadata": {},
   "source": [
    "# Functions applied for different data structures such as lists, tuples, dicts...\n",
    "\n",
    "#### In this document I will upload some functions that may be useful in the future. "
   ]
  },
  {
   "cell_type": "markdown",
   "metadata": {},
   "source": [
    "## List sorted by frequency of its strings\n",
    "\n",
    "For getting a list with the frequency of each word ordered by descending order:"
   ]
  },
  {
   "cell_type": "code",
   "execution_count": 1,
   "metadata": {},
   "outputs": [],
   "source": [
    "def sorted_list(lista):\n",
    "    \"\"\" With this function you will introduce a list of strings and \n",
    "    it will return the same list sorted by the frequency of appearance \n",
    "    for each string, in descending order\"\"\"\n",
    "    dictionary ={}\n",
    "    for word in lista:\n",
    "        if word not in dictionary.keys():\n",
    "            dictionary[word]=1\n",
    "        else:\n",
    "            dictionary[word]+=1\n",
    "    return list(sorted(dictionary,key=dictionary.get,reverse=True))"
   ]
  },
  {
   "cell_type": "code",
   "execution_count": null,
   "metadata": {},
   "outputs": [],
   "source": []
  }
 ],
 "metadata": {
  "kernelspec": {
   "display_name": "Python 3",
   "language": "python",
   "name": "python3"
  },
  "language_info": {
   "codemirror_mode": {
    "name": "ipython",
    "version": 3
   },
   "file_extension": ".py",
   "mimetype": "text/x-python",
   "name": "python",
   "nbconvert_exporter": "python",
   "pygments_lexer": "ipython3",
   "version": "3.7.4"
  }
 },
 "nbformat": 4,
 "nbformat_minor": 2
}
