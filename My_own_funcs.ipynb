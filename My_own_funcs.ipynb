{
 "cells": [
  {
   "cell_type": "markdown",
   "metadata": {},
   "source": [
    "# Functions\n",
    "\n",
    "#### In this document I will upload some functions that may be useful in the future. "
   ]
  },
  {
   "cell_type": "markdown",
   "metadata": {},
   "source": [
    "## New column with the median of a 'str' column updated every cell\n",
    "\n",
    "For getting the median value of a 'str' column you can use the following funcs:"
   ]
  },
  {
   "cell_type": "code",
   "execution_count": 1,
   "metadata": {},
   "outputs": [],
   "source": [
    "def sorted_list(lista):\n",
    "    \"\"\" With this function you will introduce a list of strings and \n",
    "    it will return the same list sorted by the frequency of appearance \n",
    "    for each string, in descending order\"\"\"\n",
    "    dictionary ={}\n",
    "    for word in lista:\n",
    "        if word not in dictionary.keys():\n",
    "            dictionary[word]=1\n",
    "        else:\n",
    "            dictionary[word]+=1\n",
    "    return list(sorted(dictionary,key=dictionary.get,reverse=True))\n",
    "\n",
    "def cum_median_str(df,series,objective):\n",
    "    \"\"\" With this function you will create a new dataframe column (objective) \n",
    "    based on the values of another column (serie), where in each cell the\n",
    "    median value up to cell before of the original column will be given \n",
    "    \n",
    "    Example: \n",
    "        - 02/02/2012: median value until 01/02/2012: 'FLL' \n",
    "        - 03/02/2012: median value until 02/02/2012: 'OLS'\n",
    "    \n",
    "    So you will be given the median value until the day before\n",
    "    \"\"\"\n",
    "    df[objective]='NaN'\n",
    "    values=[]\n",
    "    for i,val in enumerate(df[series]):\n",
    "        if i == 0:\n",
    "            values.append(val)\n",
    "        else:\n",
    "            median_value=sorted_list(values)\n",
    "            df[objective][i]=median_value[0]\n",
    "            values.append(val)"
   ]
  },
  {
   "cell_type": "markdown",
   "metadata": {},
   "source": [
    "## List sorted by frequency of its words\n",
    "\n",
    "For getting a list with the frequency of each word ordered by descending order:"
   ]
  },
  {
   "cell_type": "code",
   "execution_count": 2,
   "metadata": {},
   "outputs": [],
   "source": [
    "def sorted_list(lista):\n",
    "    \"\"\" With this function you will introduce a list of strings and \n",
    "    it will return the same list sorted by the frequency of appearance \n",
    "    for each string, in descending order\"\"\"\n",
    "    dictionary ={}\n",
    "    for word in lista:\n",
    "        if word not in dictionary.keys():\n",
    "            dictionary[word]=1\n",
    "        else:\n",
    "            dictionary[word]+=1\n",
    "    return list(sorted(dictionary,key=dictionary.get,reverse=True))"
   ]
  },
  {
   "cell_type": "markdown",
   "metadata": {},
   "source": [
    "## New column with the median of a 'float' column, group by another column, updated for each cell\n",
    "\n",
    "With this function we can create a new column in a dataframe in wich each record for the cell is the median of an specific 'float' column up to the cell before that one. "
   ]
  },
  {
   "cell_type": "code",
   "execution_count": 4,
   "metadata": {},
   "outputs": [],
   "source": [
    "def cum_median_int(df,series,objective,by):\n",
    "    \"\"\" With this function you will create a new dataframe column (objective) \n",
    "    based on the values of another column (serie), where in each cell the\n",
    "    median value up to cell before of the original column will be given \n",
    "    \n",
    "    Example: \n",
    "        - 02/02/2012: median value until 01/02/2012: -1 \n",
    "        - 03/02/2012: median value until 02/02/2012: 3\n",
    "    \n",
    "    So you will be given the median value until the day before\"\"\"\n",
    "    df[objective]=np.nan\n",
    "    dataframe=pd.DataFrame()\n",
    "    for i in range(df.shape[0]):\n",
    "        if i==0:\n",
    "            continue\n",
    "        else:\n",
    "            dataframe=pd.concat([dataframe,df[[by,series]][i:i+1]],ignore_index=True)\n",
    "            median_df=dataframe[[by,series]].groupby(by).median()\n",
    "            median=median_df.to_dict()\n",
    "            if df[by][i] not in median[series].keys():\n",
    "                continue\n",
    "            else:\n",
    "                df[objective][i]=median[series][df[by][i]]  "
   ]
  },
  {
   "cell_type": "code",
   "execution_count": null,
   "metadata": {},
   "outputs": [],
   "source": []
  },
  {
   "cell_type": "code",
   "execution_count": null,
   "metadata": {},
   "outputs": [],
   "source": []
  },
  {
   "cell_type": "code",
   "execution_count": null,
   "metadata": {},
   "outputs": [],
   "source": []
  },
  {
   "cell_type": "code",
   "execution_count": null,
   "metadata": {},
   "outputs": [],
   "source": []
  },
  {
   "cell_type": "code",
   "execution_count": null,
   "metadata": {},
   "outputs": [],
   "source": []
  }
 ],
 "metadata": {
  "kernelspec": {
   "display_name": "Python 3",
   "language": "python",
   "name": "python3"
  },
  "language_info": {
   "codemirror_mode": {
    "name": "ipython",
    "version": 3
   },
   "file_extension": ".py",
   "mimetype": "text/x-python",
   "name": "python",
   "nbconvert_exporter": "python",
   "pygments_lexer": "ipython3",
   "version": "3.7.4"
  }
 },
 "nbformat": 4,
 "nbformat_minor": 2
}
